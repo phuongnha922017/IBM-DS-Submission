{
 "cells": [
  {
   "cell_type": "markdown",
   "id": "b22b22fc",
   "metadata": {},
   "source": [
    "# Data Science Tools and Ecosystem"
   ]
  },
  {
   "cell_type": "markdown",
   "id": "c8712bf9",
   "metadata": {},
   "source": [
    "In this notebook, Data Science Tools and Ecosystem are summarized."
   ]
  },
  {
   "cell_type": "markdown",
   "id": "d94a3b58",
   "metadata": {},
   "source": [
    "**Objectives:**\n",
    "- List popular languages for Data Science\n",
    "- List mostly-used libraries for Data Analytics\n",
    "- List some Data Science tools\n",
    "- Introduce python arithmetics code"
   ]
  },
  {
   "cell_type": "markdown",
   "id": "c4dbcbb9",
   "metadata": {},
   "source": [
    "Some of the popular languages that Data Scientists use are:\n",
    "1. Python\n",
    "2. R\n",
    "3. C\n",
    "4. C++\n",
    "5. Scala"
   ]
  },
  {
   "cell_type": "markdown",
   "id": "b690b8c5",
   "metadata": {},
   "source": [
    "Some of the commonly used libraries used by Data Scientists include:\n",
    "1. numpy (Python)\n",
    "2. matplotlib (Python)\n",
    "3. scikit-learn (Python)\n",
    "4. tensorflow (Python)\n",
    "5. ggplot (R)"
   ]
  },
  {
   "cell_type": "markdown",
   "id": "b8b180bb",
   "metadata": {},
   "source": [
    "|Data Science Tools|\n",
    "|--|\n",
    "|Git|\n",
    "|Jupyterlab|\n",
    "|R Studio|"
   ]
  },
  {
   "cell_type": "markdown",
   "id": "ca30e70c",
   "metadata": {},
   "source": [
    "### Below are a few examples of evaluating arithmetic expressions in Python"
   ]
  },
  {
   "cell_type": "code",
   "execution_count": 1,
   "id": "fe376bfa",
   "metadata": {},
   "outputs": [
    {
     "data": {
      "text/plain": [
       "17"
      ]
     },
     "execution_count": 1,
     "metadata": {},
     "output_type": "execute_result"
    }
   ],
   "source": [
    "#This a simple arithmetic expression to mutiply then add integers\n",
    "(3*4)+5"
   ]
  },
  {
   "cell_type": "code",
   "execution_count": 2,
   "id": "066b92bc",
   "metadata": {},
   "outputs": [
    {
     "data": {
      "text/plain": [
       "3.3333333333333335"
      ]
     },
     "execution_count": 2,
     "metadata": {},
     "output_type": "execute_result"
    }
   ],
   "source": [
    "#This will convert 200 minutes to hours by diving by 60\n",
    "200 / 60"
   ]
  },
  {
   "cell_type": "markdown",
   "id": "9ca8d233",
   "metadata": {},
   "source": [
    "## Author\n",
    "Phuong Nha Mai"
   ]
  },
  {
   "cell_type": "markdown",
   "id": "6f55f06a",
   "metadata": {},
   "source": []
  }
 ],
 "metadata": {
  "kernelspec": {
   "display_name": "Python 3",
   "language": "python",
   "name": "python3"
  },
  "language_info": {
   "codemirror_mode": {
    "name": "ipython",
    "version": 3
   },
   "file_extension": ".py",
   "mimetype": "text/x-python",
   "name": "python",
   "nbconvert_exporter": "python",
   "pygments_lexer": "ipython3",
   "version": "3.12.3"
  }
 },
 "nbformat": 4,
 "nbformat_minor": 5
}
